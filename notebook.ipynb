{
 "cells": [
  {
   "cell_type": "markdown",
   "id": "9041cd2e-a5a6-44dd-acd9-4daae006c067",
   "metadata": {},
   "source": [
    "![](image.jpg)\n",
    "\n",
    "Humans not only take debts to manage necessities. A country may also take debt to manage its economy. For example, infrastructure spending is one costly ingredient required for a country's citizens to lead comfortable lives. The World Bank is the organization that provides debt to countries.\n",
    "\n",
    "In this project, you are going to analyze international debt data collected by The World Bank. The dataset contains information about the amount of debt (in USD) owed by developing countries across several categories. You are going to find the answers to the following questions:\n",
    "\n",
    "- What is the number of distinct countries present in the database?\n",
    "- What country has the highest amount of debt?\n",
    "- What country has the lowest amount of repayments?\n",
    "\n",
    "Below is a description of the table you will be working with:\n",
    "\n",
    "## `international_debt` table\n",
    "\n",
    "| Column | Definition | Data Type |\n",
    "|-|-|-|\n",
    "|country_name|Name of the country|`varchar`|\n",
    "|country_code|Code representing the country|`varchar`|\n",
    "|indicator_name|Description of the debt indicator|`varchar`|\n",
    "|indicator_code|Code representing the debt indicator|`varchar`|\n",
    "|debt|Value of the debt indicator for the given country (in current US dollars)|`float`|\n",
    "\n",
    "You will execute SQL queries to answer three questions, as listed in the instructions."
   ]
  },
  {
   "cell_type": "code",
   "execution_count": 3,
   "id": "39d52dbb-72e7-4f1c-aa48-7e86ae6c0e9e",
   "metadata": {
    "customType": "sql",
    "dataFrameVariableName": "df",
    "sqlCellMode": "dataFrame",
    "sqlSource": {
     "integrationId": "89e17161-a224-4a8a-846b-0adc0fe7a4b1",
     "integrationType": "postgresql",
     "type": "integration"
    }
   },
   "outputs": [
    {
     "name": "stderr",
     "output_type": "stream",
     "text": [
      "'grep' n’est pas reconnu en tant que commande interne\n",
      "ou externe, un programme exécutable ou un fichier de commandes.\n"
     ]
    }
   ],
   "source": [
    "# Dans une cellule\n",
    "!grep -R \"read_csv\" -n .\n",
    "\n"
   ]
  },
  {
   "cell_type": "code",
   "execution_count": 32,
   "id": "63ae86de-f519-4736-a9ab-886f71129cf3",
   "metadata": {
    "customType": "sql",
    "dataFrameVariableName": "num_distinct_countries",
    "executionCancelledAt": null,
    "executionTime": null,
    "lastExecutedAt": null,
    "lastExecutedByKernel": null,
    "lastScheduledRunId": null,
    "lastSuccessfullyExecutedCode": null,
    "outputsMetadata": {
     "0": {
      "chartState": {
       "chartModel": {
        "cellRange": {
         "columns": [],
         "rowEndIndex": null,
         "rowEndPinned": null,
         "rowStartIndex": null,
         "rowStartPinned": null
        },
        "chartId": "id-ywb9xu759fs",
        "chartOptions": {
         "common": {
          "animation": {
           "enabled": true
          }
         }
        },
        "chartPalette": {
         "altDown": {
          "fill": "#ffa03a",
          "stroke": "#cc6f10"
         },
         "altNeutral": {
          "fill": "#b5b5b5",
          "stroke": "#575757"
         },
         "altUp": {
          "fill": "#5090dc",
          "stroke": "#2b5c95"
         },
         "down": {
          "fill": "#ef5452",
          "stroke": "#a82529"
         },
         "fills": [
          "#6568A0",
          "#43D7A4",
          "#4095DB",
          "#FACC5F",
          "#CAE279",
          "#F08083",
          "#5BCDF2",
          "#F099DC",
          "#965858",
          "#7DB64F",
          "#A98954"
         ],
         "neutral": {
          "fill": "#b5b5b5",
          "stroke": "#575757"
         },
         "strokes": [
          "#6568A0",
          "#43D7A4",
          "#4095DB",
          "#FACC5F",
          "#CAE279",
          "#F08083",
          "#5BCDF2",
          "#F099DC",
          "#965858",
          "#7DB64F",
          "#A98954"
         ],
         "up": {
          "fill": "#459d55",
          "stroke": "#1e652e"
         }
        },
        "chartThemeName": "datalabTheme",
        "chartType": "groupedColumn",
        "modelType": "range",
        "suppressChartRanges": false,
        "switchCategorySeries": false,
        "unlinkChart": false,
        "version": "32.2.2"
       },
       "rangeChartModel": {
        "rangeColumns": [],
        "switchCategorySeries": false
       }
      },
      "height": 550,
      "tableState": {
       "customFilter": {
        "const": {
         "type": "boolean",
         "valid": true,
         "value": true
        },
        "id": "6564f660-bce7-4e20-8fb2-6e135fa45705",
        "nodeType": "const"
       }
      },
      "type": "dataFrame"
     }
    },
    "sqlCellMode": "dataFrame",
    "sqlSource": {
     "integrationId": "89e17161-a224-4a8a-846b-0adc0fe7a4b1",
     "integrationType": "postgresql",
     "type": "integration"
    },
    "version": "ag-charts-v1",
    "visualizeDataframe": false
   },
   "outputs": [
    {
     "@datacamp/metadata": {
      "executedQuery": "-- num_distinct_countries \nWITH num_distinct_countries AS (\n\tSELECT COUNT(DISTINCT country_name) AS total_distinct_countries\n\tFROM international_debt)\n\t\nSELECT *\nFROM num_distinct_countries;",
      "executedQueryParameters": []
     },
     "data": {
      "application/com.datacamp.data-table.v2+json": {
       "table": {
        "data": {
         "index": [
          0
         ],
         "total_distinct_countries": [
          124
         ]
        },
        "schema": {
         "fields": [
          {
           "name": "index",
           "type": "integer"
          },
          {
           "name": "total_distinct_countries",
           "type": "integer"
          }
         ],
         "pandas_version": "1.4.0",
         "primaryKey": [
          "index"
         ]
        }
       },
       "total_rows": 1,
       "truncation_type": null
      },
      "text/html": [
       "<div>\n",
       "<style scoped>\n",
       "    .dataframe tbody tr th:only-of-type {\n",
       "        vertical-align: middle;\n",
       "    }\n",
       "\n",
       "    .dataframe tbody tr th {\n",
       "        vertical-align: top;\n",
       "    }\n",
       "\n",
       "    .dataframe thead th {\n",
       "        text-align: right;\n",
       "    }\n",
       "</style>\n",
       "<table border=\"1\" class=\"dataframe\">\n",
       "  <thead>\n",
       "    <tr style=\"text-align: right;\">\n",
       "      <th></th>\n",
       "      <th>total_distinct_countries</th>\n",
       "    </tr>\n",
       "  </thead>\n",
       "  <tbody>\n",
       "    <tr>\n",
       "      <th>0</th>\n",
       "      <td>124</td>\n",
       "    </tr>\n",
       "  </tbody>\n",
       "</table>\n",
       "</div>"
      ],
      "text/plain": [
       "   total_distinct_countries\n",
       "0                       124"
      ]
     },
     "execution_count": 32,
     "metadata": {
      "application/com.datacamp.data-table.v2+json": {
       "status": "success"
      }
     },
     "output_type": "execute_result"
    }
   ],
   "source": [
    "-- num_distinct_countries \n",
    "WITH num_distinct_countries AS (\n",
    "\tSELECT COUNT(DISTINCT country_name) AS total_distinct_countries\n",
    "\tFROM international_debt)\n",
    "\t\n",
    "SELECT *\n",
    "FROM num_distinct_countries;"
   ]
  },
  {
   "cell_type": "code",
   "execution_count": 33,
   "id": "8b8afd6e-b2eb-4637-a16f-8671b51e7317",
   "metadata": {
    "customType": "sql",
    "dataFrameVariableName": "highest_debt_country",
    "executionCancelledAt": null,
    "executionTime": null,
    "lastExecutedAt": null,
    "lastExecutedByKernel": null,
    "lastScheduledRunId": null,
    "lastSuccessfullyExecutedCode": null,
    "outputsMetadata": {
     "0": {
      "height": 550,
      "tableState": {
       "customFilter": {
        "const": {
         "type": "boolean",
         "valid": true,
         "value": true
        },
        "id": "6564f660-bce7-4e20-8fb2-6e135fa45705",
        "nodeType": "const"
       }
      },
      "type": "dataFrame"
     }
    },
    "sqlCellMode": "dataFrame",
    "sqlSource": {
     "integrationId": "89e17161-a224-4a8a-846b-0adc0fe7a4b1",
     "integrationType": "postgresql",
     "type": "integration"
    }
   },
   "outputs": [
    {
     "@datacamp/metadata": {
      "executedQuery": "-- highest_debt_country \n\nWITH highest_debt_country AS (\n\tSELECT country_name, SUM(debt) AS total_debt\n\tFROM international_debt\n\tGROUP BY country_name\n\tORDER BY SUM(debt) DESC\n\tLIMIT 1)\n\t\nSELECT *\nFROM highest_debt_country;",
      "executedQueryParameters": []
     },
     "data": {
      "application/com.datacamp.data-table.v2+json": {
       "table": {
        "data": {
         "country_name": [
          "China"
         ],
         "index": [
          0
         ],
         "total_debt": [
          285793494734.2
         ]
        },
        "schema": {
         "fields": [
          {
           "name": "index",
           "type": "integer"
          },
          {
           "name": "country_name",
           "type": "string"
          },
          {
           "name": "total_debt",
           "type": "number"
          }
         ],
         "pandas_version": "1.4.0",
         "primaryKey": [
          "index"
         ]
        }
       },
       "total_rows": 1,
       "truncation_type": null
      },
      "text/html": [
       "<div>\n",
       "<style scoped>\n",
       "    .dataframe tbody tr th:only-of-type {\n",
       "        vertical-align: middle;\n",
       "    }\n",
       "\n",
       "    .dataframe tbody tr th {\n",
       "        vertical-align: top;\n",
       "    }\n",
       "\n",
       "    .dataframe thead th {\n",
       "        text-align: right;\n",
       "    }\n",
       "</style>\n",
       "<table border=\"1\" class=\"dataframe\">\n",
       "  <thead>\n",
       "    <tr style=\"text-align: right;\">\n",
       "      <th></th>\n",
       "      <th>country_name</th>\n",
       "      <th>total_debt</th>\n",
       "    </tr>\n",
       "  </thead>\n",
       "  <tbody>\n",
       "    <tr>\n",
       "      <th>0</th>\n",
       "      <td>China</td>\n",
       "      <td>2.857935e+11</td>\n",
       "    </tr>\n",
       "  </tbody>\n",
       "</table>\n",
       "</div>"
      ],
      "text/plain": [
       "  country_name    total_debt\n",
       "0        China  2.857935e+11"
      ]
     },
     "execution_count": 33,
     "metadata": {
      "application/com.datacamp.data-table.v2+json": {
       "status": "success"
      }
     },
     "output_type": "execute_result"
    }
   ],
   "source": [
    "-- highest_debt_country \n",
    "\n",
    "WITH highest_debt_country AS (\n",
    "\tSELECT country_name, SUM(debt) AS total_debt\n",
    "\tFROM international_debt\n",
    "\tGROUP BY country_name\n",
    "\tORDER BY SUM(debt) DESC\n",
    "\tLIMIT 1)\n",
    "\t\n",
    "SELECT *\n",
    "FROM highest_debt_country;"
   ]
  },
  {
   "cell_type": "code",
   "execution_count": 34,
   "id": "1cdf2f88-7aa0-4702-8422-84098b742be4",
   "metadata": {
    "customType": "sql",
    "dataFrameVariableName": "lowest_principal_repayment",
    "executionCancelledAt": null,
    "executionTime": 1125,
    "lastExecutedAt": 1747325760153,
    "lastExecutedByKernel": "25ad7d20-d524-40be-83be-68f11ab9c070",
    "lastScheduledRunId": null,
    "lastSuccessfullyExecutedCode": "-- lowest_principal_repayment \nWITH lowest_principal_repayment AS (\n\tSELECT country_name, indicator_name, indicator_code AS lowest_repayment\n\tFROM international_debt\n\tWHERE indicator_code = 'DT.AMT.DLXF.CD'\n\tORDER BY debt ASC\n\tLIMIT 1\t)\n\nSELECT *\nFROM lowest_principal_repayment;",
    "outputsMetadata": {
     "0": {
      "height": 550,
      "tableState": {
       "customFilter": {
        "const": {
         "type": "boolean",
         "valid": true,
         "value": true
        },
        "id": "6564f660-bce7-4e20-8fb2-6e135fa45705",
        "nodeType": "const"
       }
      },
      "type": "dataFrame"
     }
    },
    "sqlCellMode": "dataFrame",
    "sqlSource": {
     "integrationId": "89e17161-a224-4a8a-846b-0adc0fe7a4b1",
     "integrationType": "postgresql",
     "type": "integration"
    }
   },
   "outputs": [
    {
     "@datacamp/metadata": {
      "executedQuery": "-- lowest_principal_repayment \nWITH lowest_principal_repayment AS (\n\tSELECT country_name, indicator_name, indicator_code AS lowest_repayment\n\tFROM international_debt\n\tWHERE indicator_code = 'DT.AMT.DLXF.CD'\n\tORDER BY debt ASC\n\tLIMIT 1\t)\n\nSELECT *\nFROM lowest_principal_repayment;",
      "executedQueryParameters": []
     },
     "data": {
      "application/com.datacamp.data-table.v2+json": {
       "table": {
        "data": {
         "country_name": [
          "Timor-Leste"
         ],
         "index": [
          0
         ],
         "indicator_name": [
          "Principal repayments on external debt, long-term (AMT, current US$)"
         ],
         "lowest_repayment": [
          "DT.AMT.DLXF.CD"
         ]
        },
        "schema": {
         "fields": [
          {
           "name": "index",
           "type": "integer"
          },
          {
           "name": "country_name",
           "type": "string"
          },
          {
           "name": "indicator_name",
           "type": "string"
          },
          {
           "name": "lowest_repayment",
           "type": "string"
          }
         ],
         "pandas_version": "1.4.0",
         "primaryKey": [
          "index"
         ]
        }
       },
       "total_rows": 1,
       "truncation_type": null
      },
      "text/html": [
       "<div>\n",
       "<style scoped>\n",
       "    .dataframe tbody tr th:only-of-type {\n",
       "        vertical-align: middle;\n",
       "    }\n",
       "\n",
       "    .dataframe tbody tr th {\n",
       "        vertical-align: top;\n",
       "    }\n",
       "\n",
       "    .dataframe thead th {\n",
       "        text-align: right;\n",
       "    }\n",
       "</style>\n",
       "<table border=\"1\" class=\"dataframe\">\n",
       "  <thead>\n",
       "    <tr style=\"text-align: right;\">\n",
       "      <th></th>\n",
       "      <th>country_name</th>\n",
       "      <th>indicator_name</th>\n",
       "      <th>lowest_repayment</th>\n",
       "    </tr>\n",
       "  </thead>\n",
       "  <tbody>\n",
       "    <tr>\n",
       "      <th>0</th>\n",
       "      <td>Timor-Leste</td>\n",
       "      <td>Principal repayments on external debt, long-te...</td>\n",
       "      <td>DT.AMT.DLXF.CD</td>\n",
       "    </tr>\n",
       "  </tbody>\n",
       "</table>\n",
       "</div>"
      ],
      "text/plain": [
       "  country_name  ... lowest_repayment\n",
       "0  Timor-Leste  ...   DT.AMT.DLXF.CD\n",
       "\n",
       "[1 rows x 3 columns]"
      ]
     },
     "execution_count": 34,
     "metadata": {
      "application/com.datacamp.data-table.v2+json": {
       "status": "success"
      }
     },
     "output_type": "execute_result"
    }
   ],
   "source": [
    "-- lowest_principal_repayment \n",
    "WITH lowest_principal_repayment AS (\n",
    "\tSELECT country_name, indicator_name, indicator_code AS lowest_repayment\n",
    "\tFROM international_debt\n",
    "\tWHERE indicator_code = 'DT.AMT.DLXF.CD'\n",
    "\tORDER BY debt ASC\n",
    "\tLIMIT 1\t)\n",
    "\n",
    "SELECT *\n",
    "FROM lowest_principal_repayment;"
   ]
  }
 ],
 "metadata": {
  "colab": {
   "name": "Welcome to DataCamp Workspaces.ipynb",
   "provenance": []
  },
  "kernelspec": {
   "display_name": "Python [conda env:base] *",
   "language": "python",
   "name": "conda-base-py"
  },
  "language_info": {
   "codemirror_mode": {
    "name": "ipython",
    "version": 3
   },
   "file_extension": ".py",
   "mimetype": "text/x-python",
   "name": "python",
   "nbconvert_exporter": "python",
   "pygments_lexer": "ipython3",
   "version": "3.12.7"
  }
 },
 "nbformat": 4,
 "nbformat_minor": 5
}
